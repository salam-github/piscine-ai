{
 "cells": [
  {
   "cell_type": "code",
   "execution_count": 16,
   "id": "081155b2-3e4a-4b55-a0cf-b2dd9e2002ab",
   "metadata": {},
   "outputs": [],
   "source": [
    "import numpy as np"
   ]
  },
  {
   "cell_type": "markdown",
   "id": "e96fd088-b92c-4bf2-b2fc-0427e64cf5c7",
   "metadata": {},
   "source": [
    "### ex0"
   ]
  },
  {
   "cell_type": "markdown",
   "id": "bde49660-1189-4a0f-84a2-e32012e3ec25",
   "metadata": {},
   "source": [
    "# H1 TITLE\n",
    "## H2 TITLE"
   ]
  },
  {
   "cell_type": "code",
   "execution_count": 17,
   "id": "bf02af3c-3108-4565-b783-8ee177eb9216",
   "metadata": {},
   "outputs": [
    {
     "name": "stdout",
     "output_type": "stream",
     "text": [
      "Buy the dip ?\n"
     ]
    }
   ],
   "source": [
    "print(\"Buy the dip ?\")"
   ]
  },
  {
   "cell_type": "markdown",
   "id": "fb098731-b479-4578-9f01-a2159ba4f2f9",
   "metadata": {},
   "source": [
    "### ex01"
   ]
  },
  {
   "cell_type": "code",
   "execution_count": 18,
   "id": "d707a584-de83-4b9f-beef-f63f910d8b0e",
   "metadata": {},
   "outputs": [],
   "source": [
    "your_np_array = np.array([\n",
    "    1,                    # Integer\n",
    "    3.14,                 # Float\n",
    "    \"a string\",           # String\n",
    "    {\"key\": \"value\"},     # Dictionary\n",
    "    [1, 2, 3],            # List\n",
    "    (4, 5, 6),            # Tuple\n",
    "    {7, 8, 9},            # Set\n",
    "    True                  # Boolean\n",
    "], dtype=object)"
   ]
  },
  {
   "cell_type": "code",
   "execution_count": 19,
   "id": "7bccd976-2c71-47f6-b0b1-d891a57b58c2",
   "metadata": {},
   "outputs": [
    {
     "name": "stdout",
     "output_type": "stream",
     "text": [
      "<class 'int'>\n",
      "<class 'float'>\n",
      "<class 'str'>\n",
      "<class 'dict'>\n",
      "<class 'list'>\n",
      "<class 'tuple'>\n",
      "<class 'set'>\n",
      "<class 'bool'>\n"
     ]
    }
   ],
   "source": [
    "for i in your_np_array:\n",
    "    print(type(i))"
   ]
  },
  {
   "cell_type": "markdown",
   "id": "05ffca80-2071-41f8-bbb6-b928e00aa50b",
   "metadata": {},
   "source": [
    "### ex02"
   ]
  },
  {
   "cell_type": "code",
   "execution_count": 20,
   "id": "b88e0887-e2cb-4a6f-b8bd-ada1d2a1c7c0",
   "metadata": {},
   "outputs": [],
   "source": [
    "zero_array = np.zeros(300)"
   ]
  },
  {
   "cell_type": "code",
   "execution_count": 21,
   "id": "ce715952-f48b-4fa2-ba20-43a26d437523",
   "metadata": {},
   "outputs": [
    {
     "name": "stdout",
     "output_type": "stream",
     "text": [
      "(3, 100)\n"
     ]
    }
   ],
   "source": [
    "reshaped_array = zero_array.reshape(3, 100)\n",
    "print(reshaped_array.shape)"
   ]
  },
  {
   "cell_type": "markdown",
   "id": "9963895b-3a23-4c55-937d-1fa8d00afb01",
   "metadata": {},
   "source": [
    "### ex03"
   ]
  },
  {
   "cell_type": "code",
   "execution_count": 37,
   "id": "bc582764-294b-4b0a-a2a6-bde2357c6782",
   "metadata": {},
   "outputs": [],
   "source": [
    "array_1_to_100 = np.arange(1, 101)"
   ]
  },
  {
   "cell_type": "code",
   "execution_count": 24,
   "id": "cf0b1744-93e9-4509-ba73-f0a4073c7fcc",
   "metadata": {},
   "outputs": [],
   "source": [
    "# Create an array of all odd integers\n",
    "odd_integers = array_1_to_100[array_1_to_100 % 2 != 0]"
   ]
  },
  {
   "cell_type": "code",
   "execution_count": 28,
   "id": "75bbd1a0-d264-41f6-997e-f631d38d3f59",
   "metadata": {},
   "outputs": [
    {
     "name": "stdout",
     "output_type": "stream",
     "text": [
      "[ 1  3  5  7  9 11 13 15 17 19 21 23 25 27 29 31 33 35 37 39 41 43 45 47\n",
      " 49 51 53 55 57 59 61 63 65 67 69 71 73 75 77 79 81 83 85 87 89 91 93 95\n",
      " 97 99]\n"
     ]
    }
   ],
   "source": [
    "print(odd_integers)"
   ]
  },
  {
   "cell_type": "code",
   "execution_count": 29,
   "id": "f93eedb0-cbb8-43f2-8299-1dcedf0e043e",
   "metadata": {},
   "outputs": [],
   "source": [
    "# Create an array of all even integers reversed\n",
    "even_integers_reversed = array_1_to_100[array_1_to_100 % 2 == 0][::-1]"
   ]
  },
  {
   "cell_type": "code",
   "execution_count": 31,
   "id": "41a57700-c581-4cec-8546-af8d713c1749",
   "metadata": {},
   "outputs": [
    {
     "name": "stdout",
     "output_type": "stream",
     "text": [
      "[100  98  96  94  92  90  88  86  84  82  80  78  76  74  72  70  68  66\n",
      "  64  62  60  58  56  54  52  50  48  46  44  42  40  38  36  34  32  30\n",
      "  28  26  24  22  20  18  16  14  12  10   8   6   4   2]\n"
     ]
    }
   ],
   "source": [
    "print(even_integers_reversed)"
   ]
  },
  {
   "cell_type": "code",
   "execution_count": 32,
   "id": "84561a3f-567c-4e05-aa3e-a6040475d3fc",
   "metadata": {},
   "outputs": [],
   "source": [
    "# Set the value of every 3rd element starting from the second to 0\n",
    "array_1_to_100[1::3] = 0"
   ]
  },
  {
   "cell_type": "code",
   "execution_count": 36,
   "id": "c7692df2-6774-41e5-9880-927bfa44c545",
   "metadata": {},
   "outputs": [
    {
     "name": "stdout",
     "output_type": "stream",
     "text": [
      "1 to 100 [  1   0   3   4   0   6   7   0   9  10   0  12  13   0  15  16   0  18\n",
      "  19   0  21  22   0  24  25   0  27  28   0  30  31   0  33  34   0  36\n",
      "  37   0  39  40   0  42  43   0  45  46   0  48  49   0  51  52   0  54\n",
      "  55   0  57  58   0  60  61   0  63  64   0  66  67   0  69  70   0  72\n",
      "  73   0  75  76   0  78  79   0  81  82   0  84  85   0  87  88   0  90\n",
      "  91   0  93  94   0  96  97   0  99 100]\n"
     ]
    }
   ],
   "source": [
    "print('1 to 100',array_1_to_100)"
   ]
  },
  {
   "cell_type": "markdown",
   "id": "62ce1af7-087a-486a-99cf-43b2799648e2",
   "metadata": {},
   "source": [
    "### ex04"
   ]
  },
  {
   "cell_type": "code",
   "execution_count": null,
   "id": "9069460a-7a6d-481f-a559-9691d32264d4",
   "metadata": {},
   "outputs": [],
   "source": []
  }
 ],
 "metadata": {
  "kernelspec": {
   "display_name": "Python 3 (ipykernel)",
   "language": "python",
   "name": "python3"
  },
  "language_info": {
   "codemirror_mode": {
    "name": "ipython",
    "version": 3
   },
   "file_extension": ".py",
   "mimetype": "text/x-python",
   "name": "python",
   "nbconvert_exporter": "python",
   "pygments_lexer": "ipython3",
   "version": "3.11.7"
  }
 },
 "nbformat": 4,
 "nbformat_minor": 5
}
